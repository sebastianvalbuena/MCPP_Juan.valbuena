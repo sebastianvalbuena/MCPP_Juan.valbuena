{
 "cells": [
  {
   "cell_type": "markdown",
   "metadata": {},
   "source": [
    "# Taller 2\n",
    "Métodos Computacionales para Políticas Públicas - URosario\n",
    "\n",
    "**Entrega: viernes 15-feb-2019 11:59 PM**"
   ]
  },
  {
   "cell_type": "markdown",
   "metadata": {},
   "source": [
    "<div class=\"alert alert-success\">\n",
    "**[Su nombre acá]** <br><br>\n",
    "[Su e-mail acá]\n",
    "</div>"
   ]
  },
  {
   "cell_type": "markdown",
   "metadata": {},
   "source": [
    "## Instrucciones:\n",
    "- Guarde una copia de este *Jupyter Notebook* en su computador, idealmente en una carpeta destinada al material del curso.\n",
    "- Modifique el nombre del archivo del *notebook*, agregando al final un guión inferior y su nombre y apellido, separados estos últimos por otro guión inferior. Por ejemplo, mi *notebook* se llamaría: mcpp_taller2_santiago_matallana\n",
    "- Marque el *notebook* con su nombre y e-mail en el bloque verde arriba. Reemplace el texto \"[Su nombre acá]\" con su nombre y apellido. Similar para su e-mail.\n",
    "- Desarrolle la totalidad del taller sobre este *notebook*, insertando las celdas que sea necesario debajo de cada pregunta. Haga buen uso de las celdas para código y de las celdas tipo *markdown* según el caso.\n",
    "- Recuerde salvar periódicamente sus avances.\n",
    "- Cuando termine el taller:\n",
    "    1. Descárguelo en PDF.\n",
    "    2. Suba los dos archivos (.pdf y .ipynb) a su repositorio en GitHub antes de la fecha y hora límites.\n",
    "\n",
    "(El valor de cada ejercicio está en corchetes [ ] después del número de ejercicio.)"
   ]
  },
  {
   "cell_type": "markdown",
   "metadata": {},
   "source": [
    "---"
   ]
  },
  {
   "cell_type": "markdown",
   "metadata": {},
   "source": [
    "## 1. [1]\n",
    "\n",
    "[Pensar como un computador] Considere el siguiente código:"
   ]
  },
  {
   "cell_type": "raw",
   "metadata": {},
   "source": [
    "if x > 2:\n",
    "    if y > 2:\n",
    "        z = x + y\n",
    "        print(\"z es\", z)\n",
    "else:\n",
    "    print(\"x es\", x)"
   ]
  },
  {
   "cell_type": "markdown",
   "metadata": {},
   "source": [
    "¿Cuál es el resultado si\n",
    "\n",
    "a)  x = 2, y = 5?\n",
    "\n",
    "b)  x = 3, y = 1?\n",
    "\n",
    "c)  x = 1, y = 1? \n",
    "\n",
    "d)  x = 4, y = 3?"
   ]
  },
  {
   "cell_type": "markdown",
   "metadata": {},
   "source": [
    "---"
   ]
  },
  {
   "cell_type": "markdown",
   "metadata": {},
   "source": [
    "## 2. [1]\n",
    "[Pensar como un computador] ¿Cuál es el resultado del siguiente código y cuántas veces se recorre el loop?"
   ]
  },
  {
   "cell_type": "raw",
   "metadata": {},
   "source": [
    "i = 0\n",
    "while i < 10:\n",
    "    i = i + 1\n",
    "    if i % 2 == 0:\n",
    "        print(i)"
   ]
  },
  {
   "cell_type": "markdown",
   "metadata": {},
   "source": [
    "---"
   ]
  },
  {
   "cell_type": "markdown",
   "metadata": {},
   "source": [
    "## 3. [1]\n",
    "[Pensar como un computador] ¿Cuál es el resultado del siguiente código y cuántas veces se recorre el loop?"
   ]
  },
  {
   "cell_type": "raw",
   "metadata": {},
   "source": [
    "i = 0\n",
    "while i > 10:\n",
    "    i = i + 1\n",
    "    if i % 2 == 0:\n",
    "        print(i)"
   ]
  },
  {
   "cell_type": "markdown",
   "metadata": {},
   "source": [
    "---"
   ]
  },
  {
   "cell_type": "markdown",
   "metadata": {},
   "source": [
    "## 4.  [2]\n",
    "Escriba un programa que pida al usuario ingresar un número entero, y que imprima \"par\" si el número es par e \"impar\" si el número es impar. Agregue a su programa un código que genere una advertencia en caso de que el usuario ingrese algo diferente a un número entero: \"Error. El usuario debe ingresar un número entero.\" (Investigue por su cuenta cómo lograr dicha validación y la generación del mensaje.)"
   ]
  },
  {
   "cell_type": "markdown",
   "metadata": {},
   "source": [
    "---"
   ]
  },
  {
   "cell_type": "markdown",
   "metadata": {},
   "source": [
    "## 5.  [2]\n",
    "Escriba un <font face=\"consolas\">for</font> loop que imprima todos los múltiplos de 3 desde 40 hasta 0 en orden decreciente. Esto es, 39, 36, 33,..., 3, 0."
   ]
  },
  {
   "cell_type": "markdown",
   "metadata": {},
   "source": [
    "---"
   ]
  },
  {
   "cell_type": "markdown",
   "metadata": {},
   "source": [
    "## 6. [2]\n",
    "Escriba un loop que imprima todos los números entre 6 y 30 que no son divisibles por 2, 3 o 5."
   ]
  },
  {
   "cell_type": "markdown",
   "metadata": {},
   "source": [
    "---"
   ]
  },
  {
   "cell_type": "markdown",
   "metadata": {},
   "source": [
    "## 7. [4]\n",
    "Escriba un programa llamado \"Adivine ni número\". El computador generará aleatoriamente un entero entre 1 y 100. El usuario digita un número y el computador responde \"Menor\" si el número aleatorio es menor que el escogido por el usuario, \"Mayor\" si el número aleatorio es mayor, y \"¡Correcto!\" si el usuario adivina el número. El jugador puede continuar ingresando números hasta que adivine correctamente.\n",
    "\n",
    "**Ejemplo:**\n",
    "- El número aleatorio es 79.\n",
    "- El computador muestra el texto \"Adivine el número entre 1 y 100:\" y espera a que el usuario lo digite.\n",
    "- El usuario digita el número que está abajo en itálicas.\n",
    "- El computador devuelve uno de tres textos, según el caso: \"Mayor\", \"Menor\", o \"¡Correcto!\"."
   ]
  },
  {
   "cell_type": "markdown",
   "metadata": {},
   "source": [
    "<font color=\"green\">Adivine el número entre 1 y 100: *40*<br>\n",
    "<font face=\"consolas\">Mayor</font>\n",
    "\n",
    "Adivine el número entre 1 y 100: *70*\n",
    "<font face=\"consolas\">Mayor</font>\n",
    "\n",
    "Adivine el número entre 1 y 100: *80*\n",
    "<font face=\"consolas\">Menor</font>\n",
    "\n",
    "Adivine el número entre 1 y 100: *77*\n",
    "<font face=\"consolas\">Mayor</font>\n",
    "\n",
    "Adivine el número entre 1 y 100: *79*\n",
    "<font face=\"consolas\">¡Correcto!</font></font>"
   ]
  },
  {
   "cell_type": "markdown",
   "metadata": {},
   "source": [
    "**¿Cómo generar números aleatorios en Python?**\n",
    "\n",
    "- Al comienzo de su programa escriba: <font face=\"consolas\" color=\"green\">import random</font>\n",
    "- Para generar un número aleatorio entre 1 y 100 escriba: <font face=\"consolas\" color=\"green\">random.randint(1, 100)</font>\n"
   ]
  },
  {
   "cell_type": "markdown",
   "metadata": {},
   "source": [
    "**Pistas:**\n",
    "\n",
    "- Piense en qué estructuras de control le sirven para resolver el problema.\n",
    "- ¿Cómo determina si el número es mayor, menor o correcto?\n",
    "- ¿Cómo le da turnos adicionales al usuario para adivinar, dependiendo de si en el turno anterior adivinó o no?"
   ]
  },
  {
   "cell_type": "markdown",
   "metadata": {},
   "source": [
    "---"
   ]
  }
 ],
 "metadata": {
  "anaconda-cloud": {},
  "kernelspec": {
   "display_name": "Python 3",
   "language": "python",
   "name": "python3"
  },
  "language_info": {
   "codemirror_mode": {
    "name": "ipython",
    "version": 3
   },
   "file_extension": ".py",
   "mimetype": "text/x-python",
   "name": "python",
   "nbconvert_exporter": "python",
   "pygments_lexer": "ipython3",
   "version": "3.7.1"
  }
 },
 "nbformat": 4,
 "nbformat_minor": 1
}
