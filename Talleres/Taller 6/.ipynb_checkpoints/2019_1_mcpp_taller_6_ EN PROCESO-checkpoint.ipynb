{
 "cells": [
  {
   "cell_type": "markdown",
   "metadata": {},
   "source": [
    "# Taller 6\n",
    "Métodos Computacionales para Políticas Públicas - URosario\n",
    "\n",
    "**Entrega: viernes 29-mar-2019 11:59 PM**"
   ]
  },
  {
   "cell_type": "markdown",
   "metadata": {},
   "source": [
    "<div class=\"alert alert-success\">\n",
    "**JUAN SEBASTIAN VALBUENA SILVA** <br><br>\n",
    "JUANS.VALBUENA@UROSARIO.EDU.CO\n",
    "</div>"
   ]
  },
  {
   "cell_type": "markdown",
   "metadata": {},
   "source": [
    "## Instrucciones:\n",
    "- Guarde una copia de este *Jupyter Notebook* en su computador, idealmente en una carpeta destinada al material del curso.\n",
    "- Modifique el nombre del archivo del *notebook*, agregando al final un guión inferior y su nombre y apellido, separados estos últimos por otro guión inferior. Por ejemplo, mi *notebook* se llamaría: mcpp_taller6_santiago_matallana\n",
    "- Marque el *notebook* con su nombre y e-mail en el bloque verde arriba. Reemplace el texto \"[Su nombre acá]\" con su nombre y apellido. Similar para su e-mail.\n",
    "- Desarrolle la totalidad del taller sobre este *notebook*, insertando las celdas que sea necesario debajo de cada pregunta. Haga buen uso de las celdas para código y de las celdas tipo *markdown* según el caso.\n",
    "- Recuerde salvar periódicamente sus avances.\n",
    "- Cuando termine el taller:\n",
    "    1. Descárguelo en PDF. Si tiene algún problema con la conversión, descárguelo en HTML.\n",
    "    2. Suba todos los archivos a su repositorio en GitHub, en una carpeta destinada exclusivamente para este taller, antes de la fecha y hora límites.\n",
    "\n",
    "(Todos los ejercicios tienen el mismo valor.)"
   ]
  },
  {
   "cell_type": "markdown",
   "metadata": {},
   "source": [
    "### Resuelva la parte 1 de [este documento](http://www.math.pitt.edu/~sussmanm/3040Summer14/exercisesII.pdf)."
   ]
  },
  {
   "cell_type": "code",
   "execution_count": 1,
   "metadata": {},
   "outputs": [],
   "source": [
    "import numpy as np\n",
    "import scipy.linalg as la\n",
    "import matplotlib.pyplot as plt"
   ]
  },
  {
   "cell_type": "code",
   "execution_count": 2,
   "metadata": {},
   "outputs": [],
   "source": [
    "x= (1,2,3,4)"
   ]
  },
  {
   "cell_type": "code",
   "execution_count": null,
   "metadata": {},
   "outputs": [],
   "source": []
  },
  {
   "cell_type": "markdown",
   "metadata": {
    "collapsed": true
   },
   "source": [
    "### Resuelva los ejercicios de las secciones 4.1, 5.1, 6.1, 7.4 y 8.5 de [este documento](http://www.python-academy.com/download/pycon2012/matplotlib_handout.pdf)."
   ]
  }
 ],
 "metadata": {
  "anaconda-cloud": {},
  "kernelspec": {
   "display_name": "Python 3",
   "language": "python",
   "name": "python3"
  },
  "language_info": {
   "codemirror_mode": {
    "name": "ipython",
    "version": 3
   },
   "file_extension": ".py",
   "mimetype": "text/x-python",
   "name": "python",
   "nbconvert_exporter": "python",
   "pygments_lexer": "ipython3",
   "version": "3.7.1"
  }
 },
 "nbformat": 4,
 "nbformat_minor": 1
}
