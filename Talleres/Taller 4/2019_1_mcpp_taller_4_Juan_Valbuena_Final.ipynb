{
 "cells": [
  {
   "cell_type": "markdown",
   "metadata": {},
   "source": [
    "# Taller 4\n",
    "Métodos Computacionales para Políticas Públicas - URosario\n",
    "\n",
    "**Entrega: viernes 1-mar-2019 11:59 PM**"
   ]
  },
  {
   "cell_type": "markdown",
   "metadata": {},
   "source": [
    "<div class=\"alert alert-success\">\n",
    "**Juan Sebastián Valbuena** <br><br>\n",
    "juans.valbuena@urosario.edu.co\n",
    "</div>"
   ]
  },
  {
   "cell_type": "markdown",
   "metadata": {},
   "source": [
    "## Instrucciones:\n",
    "- Guarde una copia de este *Jupyter Notebook* en su computador, idealmente en una carpeta destinada al material del curso.\n",
    "- Modifique el nombre del archivo del *notebook*, agregando al final un guión inferior y su nombre y apellido, separados estos últimos por otro guión inferior. Por ejemplo, mi *notebook* se llamaría: mcpp_taller4_santiago_matallana\n",
    "- Marque el *notebook* con su nombre y e-mail en el bloque verde arriba. Reemplace el texto \"[Su nombre acá]\" con su nombre y apellido. Similar para su e-mail.\n",
    "- Desarrolle la totalidad del taller sobre este *notebook*, insertando las celdas que sea necesario debajo de cada pregunta. Haga buen uso de las celdas para código y de las celdas tipo *markdown* según el caso.\n",
    "- Recuerde salvar periódicamente sus avances.\n",
    "- Cuando termine el taller:\n",
    "    1. Descárguelo en PDF.\n",
    "    2. Suba los dos archivos (.pdf y .ipynb) a su repositorio en GitHub antes de la fecha y hora límites.\n",
    "\n",
    "(Todos los ejercicios tienen el mismo valor.)"
   ]
  },
  {
   "cell_type": "markdown",
   "metadata": {},
   "source": [
    "---"
   ]
  },
  {
   "cell_type": "markdown",
   "metadata": {},
   "source": [
    "## Zelle, Exercises 6.8 (p. 159):\n",
    "\n",
    "- True/False: 1-10\n",
    "- Multiple choice: 2, 3, 6, 7, 10\n",
    "- Programming Exercises: 1, 3, 4, 11, 12, 13"
   ]
  },
  {
   "cell_type": "markdown",
   "metadata": {},
   "source": [
    "1. True/False: 1-10"
   ]
  },
  {
   "cell_type": "markdown",
   "metadata": {},
   "source": [
    "    1- Programmers rarely their own functions. False"
   ]
  },
  {
   "cell_type": "markdown",
   "metadata": {},
   "source": [
    "    2- A function may only be called at one place in a program. False"
   ]
  },
  {
   "cell_type": "markdown",
   "metadata": {},
   "source": [
    "    3. Information can be passed into a function through parameters. True"
   ]
  },
  {
   "cell_type": "markdown",
   "metadata": {},
   "source": [
    "    4. Every Python returns some calue. True."
   ]
  },
  {
   "cell_type": "markdown",
   "metadata": {},
   "source": [
    "    5- In Python, some parameters are passed by reference. False\n"
   ]
  },
  {
   "cell_type": "markdown",
   "metadata": {},
   "source": [
    "    6- In Python, a function can return only one value. False."
   ]
  },
  {
   "cell_type": "markdown",
   "metadata": {},
   "source": [
    "    7. Python functions can never modify a parameter. False"
   ]
  },
  {
   "cell_type": "markdown",
   "metadata": {},
   "source": [
    "    8- One reason to use functions is to reduce code duplication. True\n"
   ]
  },
  {
   "cell_type": "markdown",
   "metadata": {},
   "source": [
    "    9- Variables defined in a function are local to that function. True."
   ]
  },
  {
   "cell_type": "markdown",
   "metadata": {},
   "source": [
    "    10- It´s a bad idea to define new functions if it makes a program longer. True.\n"
   ]
  },
  {
   "cell_type": "markdown",
   "metadata": {},
   "source": [
    "- Multiple choice: 2, 3, 6, 7, 10\n",
    "  2. b.\n",
    "  3. a.\n",
    "  6. a.\n",
    "  7. d."
   ]
  },
  {
   "cell_type": "markdown",
   "metadata": {},
   "source": [
    "- Programming Exercises: 1, 3, 4, 11, 12, 13"
   ]
  },
  {
   "cell_type": "markdown",
   "metadata": {},
   "source": [
    "# 1"
   ]
  },
  {
   "cell_type": "code",
   "execution_count": null,
   "metadata": {},
   "outputs": [],
   "source": [
    "def animal(nombre, sonido):\n",
    "    print('Old MacDonald had a farm, Ee-igh, Ee-igh, Oh!')\n",
    "    print('And on that farm he had a ' + nombre + ', Ee-igh, Eei-gh, Oh!')\n",
    "    print('With a ' + sonido + ', ' + sonido + ' here and a ' + sonido + ', ' + sonido + ' there.')\n",
    "    print('Here a ' + sonido + ', there a ' + sonido + ', everywhere a ' + sonido + ', ' + sonido + '.')\n",
    "    print('Old MacDonald had a farm, Ee-igh, Ee-igh, Oh!\\n')\n",
    "    \n",
    "def main():\n",
    "    animal('cow', 'moo')\n",
    "    animal('sheep', 'baah')\n",
    "    animal( \"duck\", \"quack\")\n",
    "    animal('pig', 'oink')\n",
    "    animal(\"dog\", \"woof\")\n",
    "\n",
    "main()"
   ]
  },
  {
   "cell_type": "markdown",
   "metadata": {},
   "source": [
    "# 3"
   ]
  },
  {
   "cell_type": "code",
   "execution_count": null,
   "metadata": {},
   "outputs": [],
   "source": [
    "from math.import*\n",
    "def sphereArea(radius):\n",
    "    A = 4*pi*radius**2\n",
    "    return A\n",
    "def sphereVolume(radius):\n",
    "    V = (4/3)*pi*radius**3\n",
    "    return V\n",
    "def main():\n",
    "    print(\"El programa encuentra el volumen y el área de una esfera.\\n\")\n",
    "    r = eval(input(\"¿Cuál es el radio de la esfera?(in.): \"))\n",
    "    V = sphereVolume(r)\n",
    "    A = sphereArea(r)\n",
    "\n",
    "print(\"\\nEl area y volumen de radio, {2} , \".format(A,V,r))\n",
    "print(\"is {0:0.3f}in^2 y {1:0.3f}in^3.\".format(A,V,r))\n",
    "  \n",
    "main()"
   ]
  },
  {
   "cell_type": "code",
   "execution_count": null,
   "metadata": {},
   "outputs": [
    {
     "name": "stdout",
     "output_type": "stream",
     "text": [
      "El programa encuentra el volumen y el área de una esfera\n"
     ]
    }
   ],
   "source": [
    "from math import*\n",
    "def sphereArea(radius):\n",
    "  area = 4 * pi * radius**2\n",
    "  return area\n",
    "def sphereVolume(radius):\n",
    "  volume = 4/3 * pi * radius**3\n",
    "  return volume\n",
    "\n",
    "def main():\n",
    "    print(\"El programa encuentra el volumen y el área de una esfera\")\n",
    "    r = eval(input(\"¿Cuál es el radio de la esfera?\"))\n",
    "    print()\n",
    "    print(\"El volumen es {0:0.2f}\".format(sphereVolume(r)))\n",
    "    print(\"El area es {0:0.2f}\".format(sphereArea(r)))\n",
    "main()"
   ]
  },
  {
   "cell_type": "markdown",
   "metadata": {},
   "source": [
    "# 4"
   ]
  },
  {
   "cell_type": "code",
   "execution_count": null,
   "metadata": {},
   "outputs": [
    {
     "name": "stdout",
     "output_type": "stream",
     "text": [
      "Este programa encuentra la suma de los primeros n números naturales.\n",
      "\n",
      "Este programa también encuentra la suma de cubos de los primeros n números naturales\n"
     ]
    }
   ],
   "source": [
    "def SumN(n):\n",
    "  sum = 0\n",
    "  for num in range(1, n + 1):\n",
    "        sum = sum + num\n",
    "  return sum\n",
    "  \n",
    "def sumNCubes(n):\n",
    "    sum = 0\n",
    "    for num in range(1, n + 1):\n",
    "        sum = sum + num**3\n",
    "    return sum\n",
    "  \n",
    "def main():\n",
    "    print(\"Este programa encuentra la suma de los primeros n números naturales.\")\n",
    "    print()\n",
    "    print(\"Este programa también encuentra la suma de cubos de los primeros n números naturales\")\n",
    "    n = eval(input(\"¿Cuál es el número?\"))\n",
    "    print(\"suma de los primeros n números naturales\",sumNCubes(n))\n",
    "    print(\"Suma de cubos de los primeros n números naturales.\", SumN(n)) \n",
    "    \n",
    "main()"
   ]
  },
  {
   "cell_type": "markdown",
   "metadata": {},
   "source": [
    "# 11"
   ]
  },
  {
   "cell_type": "code",
   "execution_count": 13,
   "metadata": {},
   "outputs": [
    {
     "name": "stdout",
     "output_type": "stream",
     "text": [
      "El programa enumera una lista de números:\n",
      "[2, 4, 6]\n",
      "[16, 256, 1296]\n"
     ]
    }
   ],
   "source": [
    "def squareEach(numeros):\n",
    "    for i in range(len(numeros)):\n",
    "      numeros[i] = numeros[i]**4\n",
    "\n",
    "def main():\n",
    "    print(\"El programa enumera una lista de números:\")\n",
    "    numeros = [2,4,6]\n",
    "    squareEach(numeros)\n",
    "    listNum = [2, 4, 6]\n",
    "\n",
    "\n",
    "    print(listNum)\n",
    "    print(numeros)\n",
    "\n",
    "main()"
   ]
  },
  {
   "cell_type": "markdown",
   "metadata": {},
   "source": [
    " # 12"
   ]
  },
  {
   "cell_type": "code",
   "execution_count": 2,
   "metadata": {},
   "outputs": [
    {
     "name": "stdout",
     "output_type": "stream",
     "text": [
      "El Programa encuentra suma de números en una lista\n",
      "\n",
      "Input: [5, 5, 20, 13, 14, 16, 18, 20]\n",
      "\n",
      "Output: 111\n"
     ]
    }
   ],
   "source": [
    "def sumList(lista):\n",
    "    total = 0\n",
    "    for i in range(len(lista)):\n",
    "        total = int(lista[i]) + total\n",
    "    return total\n",
    "def main():\n",
    "    print(\"El Programa encuentra suma de números en una lista\")\n",
    "    test = [5, 5, 20, 13, 14, 16, 18, 20]\n",
    "    print(\"\\nInput:\", test)\n",
    "    sumList(test)\n",
    "    print(\"\\nOutput:\", sumList(test))\n",
    "main()"
   ]
  },
  {
   "cell_type": "markdown",
   "metadata": {},
   "source": [
    " # 13"
   ]
  },
  {
   "cell_type": "code",
   "execution_count": 7,
   "metadata": {},
   "outputs": [
    {
     "name": "stdout",
     "output_type": "stream",
     "text": [
      "Este programa convierte una lista de strings a números\n",
      "['3', '2', '1']\n",
      "[3, 2, 1]\n"
     ]
    }
   ],
   "source": [
    "def toNumber(strlist):\n",
    "    for i in range(len(strlist)):\n",
    "      strlist[i] = eval(strlist[i])\n",
    "def main():\n",
    "    print(\"Este programa convierte una lista de strings a números\")\n",
    "    numbers = [\"3\",\"2\",\"1\"]\n",
    "    print(numbers)\n",
    "    toNumber(numbers)\n",
    "    print(numbers) \n",
    "\n",
    "main()"
   ]
  }
 ],
 "metadata": {
  "anaconda-cloud": {},
  "kernelspec": {
   "display_name": "Python 3",
   "language": "python",
   "name": "python3"
  }
 },
 "nbformat": 4,
 "nbformat_minor": 1
}
